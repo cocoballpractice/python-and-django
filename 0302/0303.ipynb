{
 "cells": [
  {
   "cell_type": "markdown",
   "id": "4457d0d6-5974-4ffe-9550-0a6953bff568",
   "metadata": {},
   "source": [
    "## 돌발 문제\n",
    "1부터 100까지 수 중에서 홀수만 더한 값을 출력"
   ]
  },
  {
   "cell_type": "code",
   "execution_count": 4,
   "id": "9ac1f5e8-3ee8-4c92-986b-9eca0c427b8e",
   "metadata": {},
   "outputs": [
    {
     "name": "stdout",
     "output_type": "stream",
     "text": [
      "2500\n"
     ]
    }
   ],
   "source": [
    "num = 1\n",
    "total = 0\n",
    "\n",
    "while num < 100:\n",
    "    if num % 2 != 0:\n",
    "        total += num\n",
    "    num += 1\n",
    "    \n",
    "print(total)"
   ]
  },
  {
   "cell_type": "code",
   "execution_count": 5,
   "id": "5d80f8de-46a8-4d65-be3f-fbc13bf05c13",
   "metadata": {},
   "outputs": [
    {
     "name": "stdout",
     "output_type": "stream",
     "text": [
      "2500\n"
     ]
    }
   ],
   "source": [
    "def total(n):\n",
    "    num = 1\n",
    "    total = 0\n",
    "    while num < n:\n",
    "        if num % 2 != 0:\n",
    "            total += num\n",
    "        num +=1\n",
    "    print(total)\n",
    "    \n",
    "total(100)"
   ]
  },
  {
   "cell_type": "markdown",
   "id": "d376e286-5b06-4505-88b1-04c7d4f238e1",
   "metadata": {},
   "source": [
    "## 돌발 문제\n",
    "어떤 수를 입력 받아서 입력 받은 수를 그 수만큼 출력하시오"
   ]
  },
  {
   "cell_type": "code",
   "execution_count": 7,
   "id": "b59566cb-0021-48fa-9efb-8459db81e0d2",
   "metadata": {},
   "outputs": [
    {
     "name": "stdin",
     "output_type": "stream",
     "text": [
      " 5\n"
     ]
    },
    {
     "name": "stdout",
     "output_type": "stream",
     "text": [
      "5\n",
      "5\n",
      "5\n",
      "5\n",
      "5\n"
     ]
    }
   ],
   "source": [
    "a = int(input())\n",
    "num = 0\n",
    "\n",
    "while num < a:\n",
    "    print(a)\n",
    "    num += 1"
   ]
  },
  {
   "cell_type": "code",
   "execution_count": 9,
   "id": "e520ca3e-3b8a-4525-a622-f2197f8f0dc8",
   "metadata": {},
   "outputs": [
    {
     "name": "stdout",
     "output_type": "stream",
     "text": [
      "115\n"
     ]
    }
   ],
   "source": [
    "my_list = [23, 45, 12, 10, 25]\n",
    "i = 0\n",
    "total = 0\n",
    "\n",
    "while i < len(my_list):\n",
    "    total += my_list[i]\n",
    "    i += 1\n",
    "    \n",
    "print(total)"
   ]
  },
  {
   "cell_type": "markdown",
   "id": "1ebdfed5-4491-4a26-8665-82049a4c97be",
   "metadata": {},
   "source": [
    "## 돌발 문제\n",
    "단어의 길이가 5인 것만 출력하라"
   ]
  },
  {
   "cell_type": "code",
   "execution_count": 11,
   "id": "5a9c24bd-3cd4-40ee-8381-b9435b77bba1",
   "metadata": {},
   "outputs": [
    {
     "name": "stdout",
     "output_type": "stream",
     "text": [
      "alpha\n",
      "bravo\n",
      "delta\n",
      "hotel\n",
      "india\n"
     ]
    }
   ],
   "source": [
    "a = ['alpha', 'bravo', 'charlie', 'delta', 'echo', 'foxtrot', 'golf', 'hotel', 'india']\n",
    "\n",
    "for i in range(len(a)):\n",
    "    if len(a[i]) == 5:\n",
    "        print(a[i])"
   ]
  },
  {
   "cell_type": "code",
   "execution_count": 15,
   "id": "069a5608-ca0e-4870-af64-448aa4224860",
   "metadata": {},
   "outputs": [
    {
     "name": "stdout",
     "output_type": "stream",
     "text": [
      "['alpha', 'bravo', 'delta', 'hotel', 'india']\n"
     ]
    }
   ],
   "source": [
    "a = ['alpha', 'bravo', 'charlie', 'delta', 'echo', 'foxtrot', 'golf', 'hotel', 'india']\n",
    "b = list()\n",
    "\n",
    "for i in range(len(a)):\n",
    "    if len(a[i]) == 5:\n",
    "        b.append(a[i])\n",
    "\n",
    "print(b)"
   ]
  },
  {
   "cell_type": "code",
   "execution_count": 20,
   "id": "7a202ce0-b2ec-4077-a77d-7db28502084e",
   "metadata": {},
   "outputs": [
    {
     "name": "stdout",
     "output_type": "stream",
     "text": [
      "dict_items([('name', 'John'), ('age', 36), ('country', 'Norway')])\n",
      "('name', 'John')\n"
     ]
    }
   ],
   "source": [
    "thisdict = {\"name\":\"John\",\"age\":36,\"country\":\"Norway\"}\n",
    "\n",
    "items = thisdict.items();\n",
    "print(items)\n",
    "\n",
    "n_items = list(items) # list로 타입 캐스팅해야 함 (dict_items 객체이므로)\n",
    "\n",
    "print(n_items[0])"
   ]
  },
  {
   "cell_type": "markdown",
   "id": "dd5b22df-4d81-4be4-b036-9a00b7432b83",
   "metadata": {},
   "source": [
    "## 돌발 문제\n",
    "\n",
    "- 학생들의 수학 점수의 평균을 구해보시오\n",
    "scores = {\"철수\":90, \"민수\":85, \"영희\":80}"
   ]
  },
  {
   "cell_type": "code",
   "execution_count": 24,
   "id": "fe328f4b-bb6b-400f-b75c-d7ddaf9ac52b",
   "metadata": {},
   "outputs": [
    {
     "name": "stdout",
     "output_type": "stream",
     "text": [
      "85.0\n"
     ]
    }
   ],
   "source": [
    "def score_avg(n):\n",
    "    total = 0\n",
    "    for k in n.keys():\n",
    "        total += n[k]\n",
    "    size = len(n)\n",
    "    print(total / size)\n",
    "    \n",
    "scores = {\"철수\":90, \"민수\":85, \"영희\":80}\n",
    "\n",
    "score_avg(scores)"
   ]
  }
 ],
 "metadata": {
  "kernelspec": {
   "display_name": "Python 3 (ipykernel)",
   "language": "python",
   "name": "python3"
  },
  "language_info": {
   "codemirror_mode": {
    "name": "ipython",
    "version": 3
   },
   "file_extension": ".py",
   "mimetype": "text/x-python",
   "name": "python",
   "nbconvert_exporter": "python",
   "pygments_lexer": "ipython3",
   "version": "3.9.7"
  }
 },
 "nbformat": 4,
 "nbformat_minor": 5
}
