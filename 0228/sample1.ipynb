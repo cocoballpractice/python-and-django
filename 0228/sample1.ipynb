{
 "cells": [
  {
   "cell_type": "code",
   "execution_count": 1,
   "id": "1416be44-d10f-4278-aa31-96c915e17a85",
   "metadata": {},
   "outputs": [
    {
     "name": "stdout",
     "output_type": "stream",
     "text": [
      "hello\n"
     ]
    }
   ],
   "source": [
    "print('hello')"
   ]
  },
  {
   "cell_type": "code",
   "execution_count": 2,
   "id": "8fe8f3b2-f0c9-4cf0-a5c1-2d2f4e5dc9c5",
   "metadata": {},
   "outputs": [
    {
     "name": "stdout",
     "output_type": "stream",
     "text": [
      "friend\n"
     ]
    }
   ],
   "source": [
    "print('friend')"
   ]
  },
  {
   "cell_type": "code",
   "execution_count": 5,
   "id": "9673e40b-a797-4bc9-b844-3a17b75b7388",
   "metadata": {},
   "outputs": [
    {
     "name": "stdout",
     "output_type": "stream",
     "text": [
      "요것은 그냥 print()입니다\n",
      "요것은 func의 print()입니다\n",
      "3\n"
     ]
    }
   ],
   "source": [
    "def func():\n",
    "    print('요것은 func의 print()입니다')\n",
    "    \n",
    "print('요것은 그냥 print()입니다')\n",
    "\n",
    "def hello():\n",
    "    print(1*3)\n",
    "\n",
    "# public static void main(String[] args) {}\n",
    "if __name__ == '__main__':\n",
    "    func()\n",
    "    hello()"
   ]
  },
  {
   "cell_type": "code",
   "execution_count": 38,
   "id": "2b1636df-a330-4014-a678-0113a342c36a",
   "metadata": {},
   "outputs": [
    {
     "name": "stdout",
     "output_type": "stream",
     "text": [
      "신나는 사칙연산\n",
      "8\n",
      "2\n",
      "15\n",
      "1.6666666666666667\n",
      "철수랑 영희는 썸을 타고 있다\n"
     ]
    }
   ],
   "source": [
    "def plus(a, b):\n",
    "    print(a+b)\n",
    "    \n",
    "def minus(a, b):\n",
    "    print(a-b)\n",
    "\n",
    "def multiply(a, b):\n",
    "    print(a*b)\n",
    "    \n",
    "def divide(a,b):\n",
    "    print(a/b)\n",
    "    \n",
    "def calculate(a,b):\n",
    "    \"\"\"Docstring\"\"\"\n",
    "    print('신나는 사칙연산')\n",
    "    plus(a,b)\n",
    "    minus(a,b)\n",
    "    multiply(a,b)\n",
    "    divide(a,b)\n",
    "    \n",
    "def ssum(a,b):\n",
    "    print(a + '랑 ' + b + '는 썸을 타고 있다')\n",
    "    \n",
    "if __name__ == '__main__':\n",
    "    calculate(5,3)\n",
    "    ssum('철수','영희')"
   ]
  },
  {
   "cell_type": "code",
   "execution_count": 43,
   "id": "f298f4e5-0571-4d35-a754-ec4a8f192515",
   "metadata": {},
   "outputs": [
    {
     "name": "stdout",
     "output_type": "stream",
     "text": [
      "시작\n",
      "홀\n",
      "짝\n",
      "홀\n"
     ]
    }
   ],
   "source": [
    "def odd_or_even(n):\n",
    "    if n % 2 == 0:\n",
    "        print(\"짝\")\n",
    "        return\n",
    "    print(\"홀\")\n",
    "    \n",
    "print('시작')\n",
    "\n",
    "odd_or_even(11)\n",
    "odd_or_even(16)\n",
    "odd_or_even(34543)"
   ]
  },
  {
   "cell_type": "code",
   "execution_count": 45,
   "id": "1004364c-73a8-442a-8c0e-68ea3d7a2da0",
   "metadata": {},
   "outputs": [
    {
     "name": "stdin",
     "output_type": "stream",
     "text": [
      "숫자 :  3\n",
      "곱할 숫자 :  5\n",
      "반복할 메시지 :  안아줘요\n",
      "반복 횟수 :  5\n"
     ]
    },
    {
     "name": "stdout",
     "output_type": "stream",
     "text": [
      "15\n",
      "안아줘요안아줘요안아줘요안아줘요안아줘요\n"
     ]
    }
   ],
   "source": [
    "x = int(input('숫자 : '))\n",
    "y = int(input('곱할 숫자 : '))\n",
    "z = input('반복할 메시지 : ')\n",
    "a = int(input('반복 횟수 : '))\n",
    "\n",
    "print(x * y)\n",
    "print(z * a)"
   ]
  },
  {
   "cell_type": "code",
   "execution_count": 47,
   "id": "26b234b7-24d2-4f7c-88e9-119546624c42",
   "metadata": {},
   "outputs": [
    {
     "name": "stdout",
     "output_type": "stream",
     "text": [
      "my age 60\n"
     ]
    }
   ],
   "source": [
    "num = 60\n",
    "s = 'my age %d' % num\n",
    "\n",
    "print(s)"
   ]
  },
  {
   "cell_type": "code",
   "execution_count": 49,
   "id": "94223784-8c24-4861-af1f-15575be706d6",
   "metadata": {},
   "outputs": [
    {
     "name": "stdin",
     "output_type": "stream",
     "text": [
      "몇살이신가요? : 30\n"
     ]
    },
    {
     "name": "stdout",
     "output_type": "stream",
     "text": [
      "당신의 나이는 : 30 살 입니다\n"
     ]
    }
   ],
   "source": [
    "age = int(input(\"몇살이신가요? :\"))\n",
    "print(\"당신의 나이는 : \" + str(age) + \" 살 입니다\")"
   ]
  },
  {
   "cell_type": "code",
   "execution_count": 50,
   "id": "61807932-c1fb-4cbd-a912-ceaf5608232e",
   "metadata": {},
   "outputs": [
    {
     "name": "stdin",
     "output_type": "stream",
     "text": [
      "몇살이신가요? : 30\n"
     ]
    },
    {
     "name": "stdout",
     "output_type": "stream",
     "text": [
      "당신의 나이는 : 30 살 입니다\n"
     ]
    }
   ],
   "source": [
    "age = input(\"몇살이신가요? :\")\n",
    "print(\"당신의 나이는 : \" + age + \" 살 입니다\")"
   ]
  },
  {
   "cell_type": "code",
   "execution_count": 52,
   "id": "f74c9608-cdd6-4553-9eae-74221d216508",
   "metadata": {},
   "outputs": [
    {
     "data": {
      "text/plain": [
       "True"
      ]
     },
     "execution_count": 52,
     "metadata": {},
     "output_type": "execute_result"
    }
   ],
   "source": [
    "a = 1\n",
    "b = 1\n",
    "\n",
    "# Python에만 있는 것 (동등성? 동질성 비교인가)\n",
    "a is b"
   ]
  },
  {
   "cell_type": "code",
   "execution_count": 54,
   "id": "c3f2ba9a-51b0-4c65-9ada-ab76af2687b5",
   "metadata": {},
   "outputs": [
    {
     "name": "stdout",
     "output_type": "stream",
     "text": [
      "python\n",
      "python\n"
     ]
    }
   ],
   "source": [
    "a = b = 'python' # Python에만 있는 것\n",
    "\n",
    "print(a)\n",
    "print(b)"
   ]
  },
  {
   "cell_type": "code",
   "execution_count": 57,
   "id": "607371bf-1d7e-409c-835b-6ddf6dbffbb3",
   "metadata": {},
   "outputs": [
    {
     "name": "stdout",
     "output_type": "stream",
     "text": [
      "나\n",
      "사\n"
     ]
    }
   ],
   "source": [
    "sample = \"가나다라마바사\"\n",
    "print(sample[1])\n",
    "print(sample[-1]) # 뒤에서 시작할 경우엔 0이 아닌 -1부터 시작"
   ]
  },
  {
   "cell_type": "code",
   "execution_count": 67,
   "id": "c0a1b079-96a3-4059-bfc1-bee46dd72150",
   "metadata": {},
   "outputs": [
    {
     "name": "stdout",
     "output_type": "stream",
     "text": [
      "hi\n",
      "hi\n"
     ]
    }
   ],
   "source": [
    "s = \"hi, world\"\n",
    "print(s[0:2]) #print(s[:2])\n",
    "print(s[0]+s[1])"
   ]
  }
 ],
 "metadata": {
  "kernelspec": {
   "display_name": "Python 3 (ipykernel)",
   "language": "python",
   "name": "python3"
  },
  "language_info": {
   "codemirror_mode": {
    "name": "ipython",
    "version": 3
   },
   "file_extension": ".py",
   "mimetype": "text/x-python",
   "name": "python",
   "nbconvert_exporter": "python",
   "pygments_lexer": "ipython3",
   "version": "3.9.7"
  }
 },
 "nbformat": 4,
 "nbformat_minor": 5
}
