{
 "cells": [
  {
   "attachments": {
    "c38d1855-5bbf-4fac-b37a-44fa812d3ed4.png": {
     "image/png": "[encoded data removed]"
    }
   },
   "cell_type": "markdown",
   "id": "0cca5966-d2cd-4e40-a7c8-dc8fbe6fce12",
   "metadata": {},
   "source": [
    "모듈화한 후 실행\n",
    "\n",
    "![image.png](attachment:c38d1855-5bbf-4fac-b37a-44fa812d3ed4.png)"
   ]
  },
  {
   "cell_type": "code",
   "execution_count": 17,
   "id": "cb87aa10-41d1-4d8b-853c-999ed03c1f4c",
   "metadata": {},
   "outputs": [
    {
     "name": "stdin",
     "output_type": "stream",
     "text": [
      "가위(1), 바위(2), 보(3) 중 어떤 것을 내시겠습니까? (숫자로 대답) :  4\n"
     ]
    },
    {
     "name": "stdout",
     "output_type": "stream",
     "text": [
      "다시 입력하십시오\n"
     ]
    },
    {
     "name": "stdin",
     "output_type": "stream",
     "text": [
      "가위(1), 바위(2), 보(3) 중 어떤 것을 내시겠습니까? (숫자로 대답) :  0\n"
     ]
    },
    {
     "name": "stdout",
     "output_type": "stream",
     "text": [
      "다시 입력하십시오\n"
     ]
    },
    {
     "name": "stdin",
     "output_type": "stream",
     "text": [
      "가위(1), 바위(2), 보(3) 중 어떤 것을 내시겠습니까? (숫자로 대답) :  ㅁㄴㅇㅁㄴ\n"
     ]
    },
    {
     "name": "stdout",
     "output_type": "stream",
     "text": [
      "다시 입력하십시오\n"
     ]
    },
    {
     "name": "stdin",
     "output_type": "stream",
     "text": [
      "가위(1), 바위(2), 보(3) 중 어떤 것을 내시겠습니까? (숫자로 대답) :  1\n"
     ]
    },
    {
     "name": "stdout",
     "output_type": "stream",
     "text": [
      "상대가 바위를 냈습니다\n",
      "패배\n"
     ]
    }
   ],
   "source": [
    "import random\n",
    "\n",
    "rsp = {1:\"가위\", 2:\"바위\", 3:\"보\"}\n",
    "\n",
    "while True:\n",
    "    try:\n",
    "        t = int(input(\"가위(1), 바위(2), 보(3) 중 어떤 것을 내시겠습니까? (숫자로 대답) : \"))\n",
    "        if t >= 4 or t <=0:\n",
    "            print(\"다시 입력하십시오\")\n",
    "            continue\n",
    "        else:\n",
    "            pass\n",
    "    except:\n",
    "        print(\"다시 입력하십시오\")\n",
    "        continue\n",
    "    break\n",
    "\n",
    "e = random.randint(1,3)\n",
    "\n",
    "if t == 3:\n",
    "    if e == 1:\n",
    "        print(\"상대가 가위를 냈습니다\")\n",
    "        print(\"패배\")\n",
    "    elif e == 3:\n",
    "        print(\"당신과 상대가 보를 냈습니다\")\n",
    "        print(\"무승부\")\n",
    "    else:\n",
    "        print(\"상대가 \" + rsp[e] + \"를 냈습니다\")\n",
    "        print(\"승리\")\n",
    "else:\n",
    "    if t > e:\n",
    "        print(\"상대가 \" + rsp[e] + \"를 냈습니다\")\n",
    "        print(\"승리\")\n",
    "    elif t == e:\n",
    "        print(\"당신과 상대가 \" + rsp[e] + \"를 냈습니다\")\n",
    "        print(\"무승부\")\n",
    "    else:\n",
    "        print(\"상대가 \" + rsp[e] + \"를 냈습니다\")\n",
    "        print(\"패배\")\n",
    "        "
   ]
  },
  {
   "cell_type": "markdown",
   "id": "e575aa70-a60e-4a35-8013-7505be3e08f5",
   "metadata": {},
   "source": [
    "## GUI 만들기"
   ]
  },
  {
   "cell_type": "markdown",
   "id": "f7f7f3e8-bdb3-4ea9-b3de-0cce3fd25348",
   "metadata": {},
   "source": [
    "from tkinter import *\n",
    "from tkinter import messagebox\n",
    "\n",
    "top = Tk()\n",
    "\n",
    "C_Java = IntVar()\n",
    "C_Python = IntVar()\n",
    "\n",
    "Check1 = Checkbutton(top, text=\"Java\", variable=C_Java, onvalue=2, offvalue=1)\n",
    "Check2 = Checkbutton(top, text=\"Python\", variable=C_Python, onvalue=2, offvalue=1)\n",
    "\n",
    "Check1.pack()\n",
    "Check2.pack()\n",
    "\n",
    "top.title(\"test\")\n",
    "top.geometry(\"500x500\")\n",
    "\n",
    "def btnclick1():\n",
    "    selected_java = C_Java.get()\n",
    "    selected_python = C_Python.get()\n",
    "    if selected_java == 2:\n",
    "        msg = messagebox.showinfo(message=\"java를 선택하였습니다\")\n",
    "    if selected_python == 2:\n",
    "        msg = messagebox.showinfo(message=\"python를 선택하였습니다\")\n",
    "\n",
    "#icon = tk.PhotoImage(file=\"C:/Users/Hwang/Desktop/공부/love.jpg\")\n",
    "btn = Button(top, text=\"test\", padx=10,pady=10,fg=\"red\", command=btnclick1)\n",
    "btn.pack()\n",
    "top.mainloop()"
   ]
  },
  {
   "cell_type": "code",
   "execution_count": 31,
   "id": "833d4713-f85e-4f60-9f6d-26a13fbf7555",
   "metadata": {},
   "outputs": [
    {
     "ename": "NameError",
     "evalue": "name 'btnclick' is not defined",
     "output_type": "error",
     "traceback": [
      "\u001b[1;31m---------------------------------------------------------------------------\u001b[0m",
      "\u001b[1;31mNameError\u001b[0m                                 Traceback (most recent call last)",
      "\u001b[1;32m~\\AppData\\Local\\Temp/ipykernel_16576/1159342749.py\u001b[0m in \u001b[0;36m<module>\u001b[1;34m\u001b[0m\n\u001b[0;32m     16\u001b[0m \u001b[1;33m\u001b[0m\u001b[0m\n\u001b[0;32m     17\u001b[0m \u001b[1;31m# 버튼 설정부\u001b[0m\u001b[1;33m\u001b[0m\u001b[1;33m\u001b[0m\u001b[0m\n\u001b[1;32m---> 18\u001b[1;33m \u001b[0mbtn\u001b[0m \u001b[1;33m=\u001b[0m \u001b[0mButton\u001b[0m\u001b[1;33m(\u001b[0m\u001b[0mtop\u001b[0m\u001b[1;33m,\u001b[0m \u001b[0mtext\u001b[0m\u001b[1;33m=\u001b[0m\u001b[1;34m\"test\"\u001b[0m\u001b[1;33m,\u001b[0m \u001b[0mpadx\u001b[0m\u001b[1;33m=\u001b[0m\u001b[1;36m10\u001b[0m\u001b[1;33m,\u001b[0m\u001b[0mpady\u001b[0m\u001b[1;33m=\u001b[0m\u001b[1;36m10\u001b[0m\u001b[1;33m,\u001b[0m\u001b[0mfg\u001b[0m\u001b[1;33m=\u001b[0m\u001b[1;34m\"red\"\u001b[0m\u001b[1;33m,\u001b[0m \u001b[0mcommand\u001b[0m\u001b[1;33m=\u001b[0m\u001b[0mbtnclick\u001b[0m\u001b[1;33m)\u001b[0m\u001b[1;33m\u001b[0m\u001b[1;33m\u001b[0m\u001b[0m\n\u001b[0m\u001b[0;32m     19\u001b[0m \u001b[0mbtn\u001b[0m\u001b[1;33m.\u001b[0m\u001b[0mpack\u001b[0m\u001b[1;33m(\u001b[0m\u001b[1;33m)\u001b[0m\u001b[1;33m\u001b[0m\u001b[1;33m\u001b[0m\u001b[0m\n\u001b[0;32m     20\u001b[0m \u001b[0mtop\u001b[0m\u001b[1;33m.\u001b[0m\u001b[0mmainloop\u001b[0m\u001b[1;33m(\u001b[0m\u001b[1;33m)\u001b[0m\u001b[1;33m\u001b[0m\u001b[1;33m\u001b[0m\u001b[0m\n",
      "\u001b[1;31mNameError\u001b[0m: name 'btnclick' is not defined"
     ]
    }
   ],
   "source": [
    "from tkinter import *\n",
    "from tkinter import ttk\n",
    "from tkinter import messagebox\n",
    "import random\n",
    "\n",
    "top = Tk()\n",
    "top.title(\"test\")\n",
    "top.geometry(\"100x100\")\n",
    "\n",
    "# 콤보박스 설정부\n",
    "items = [\"가위\", \"바위\", \"보\"]\n",
    "DEFAULT_VALUE = \"고르세요\" # 콤보박스 초기값\n",
    "combo_box = ttk.Combobox(top, height=4, values=items, state=\"readonly\")\n",
    "combo_box.set(DEFAULT_VALUE)\n",
    "combo_box.pack()\n",
    "\n",
    "# 버튼 설정부\n",
    "btn = Button(top, text=\"test\", padx=10,pady=10,fg=\"red\", command=btnclick)\n",
    "btn.pack()\n",
    "top.mainloop()\n",
    "\n",
    "global win\n",
    "global draw\n",
    "global lose\n",
    "\n",
    "win = 0\n",
    "draw = 0\n",
    "lose = 0\n",
    "\n",
    "## 함수 설정부\n",
    "\n",
    "# 가위바위보 매칭 결과 return\n",
    "def match(a, b):\n",
    "    if a == \"가위\" and b == \"보\":\n",
    "        global win\n",
    "        win += 1\n",
    "        return \"승리!\"\n",
    "    elif a == \"바위\" and b == \"가위\":\n",
    "        global win\n",
    "        win += 1\n",
    "        return \"승리!\"\n",
    "    elif a == \"보\" and b == \"바위\":\n",
    "        global win\n",
    "        win += 1\n",
    "        return \"승리!\"\n",
    "    elif a == b:\n",
    "        global draw\n",
    "        draw += 1\n",
    "        return \"무승부\"\n",
    "    else:\n",
    "        global lose\n",
    "        lose += 1\n",
    "        return \"패배 ㅋㅋㅋ\"\n",
    "\n",
    "# 상대편 가위바위보 선택 결과 return\n",
    "def choice_generate():\n",
    "    rsp_list = [\"가위\", \"바위\", \"보\"]\n",
    "    i = random.randint(0,2)\n",
    "    return rsp_list[i]\n",
    "\n",
    "def print_status():\n",
    "    #global win\n",
    "    #global draw\n",
    "    #global lose\n",
    "    return str(win) + \"승 \" + str(draw) + \"무 \" + str(lose) + \"패\"\n",
    "\n",
    "# 버튼 클릭 이벤트 처리\n",
    "def btnclick():\n",
    "    your_choice = combo_box.get()\n",
    "    if your_choice != DEFAULT_VALUE:\n",
    "        computer_choice = choice_generate()\n",
    "        result = match(your_choice, computer_choice)\n",
    "        msg = messagebox.showinfo(title = \"결과\", message=result + \"\\n상대편의 선택 : \" + computer_choice + \"\\n당신의 전적 : \" + print_status())\n",
    "    else:\n",
    "        msg = messagebox.showinfo(title = \"말 좀 들어\", message=\"왜 안 고르세요?\")"
   ]
  }
 ],
 "metadata": {
  "kernelspec": {
   "display_name": "Python 3 (ipykernel)",
   "language": "python",
   "name": "python3"
  },
  "language_info": {
   "codemirror_mode": {
    "name": "ipython",
    "version": 3
   },
   "file_extension": ".py",
   "mimetype": "text/x-python",
   "name": "python",
   "nbconvert_exporter": "python",
   "pygments_lexer": "ipython3",
   "version": "3.9.7"
  }
 },
 "nbformat": 4,
 "nbformat_minor": 5
}
