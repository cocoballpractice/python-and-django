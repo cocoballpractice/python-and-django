{
 "cells": [
  {
   "cell_type": "markdown",
   "id": "d6a4fe56-0b05-4e40-b38d-f41fc4c8b05d",
   "metadata": {},
   "source": [
    "## 돌발 문제\n",
    "\n",
    "내가 돈이 있는데 그 갖고 있는 돈에 따라 학원에 오는 방법을 프린트 하는 프로그램을 짜세요\n",
    "\n",
    "1. 입력: 자기가 가지고 있는 돈\n",
    "2. 그 돈의 양에 3가지의 학원으로 가는 방법의 선택지가 있음\n",
    "3. 3번의 입력 조건에 따라 학원 가는 방법을 프린트하시오"
   ]
  },
  {
   "cell_type": "code",
   "execution_count": 5,
   "id": "02bf4f77-f67a-4438-9993-a8fe0a34586d",
   "metadata": {},
   "outputs": [
    {
     "name": "stdin",
     "output_type": "stream",
     "text": [
      "돈 얼마 있어요? :  50\n"
     ]
    },
    {
     "name": "stdout",
     "output_type": "stream",
     "text": [
      "걸어서 가세요\n"
     ]
    }
   ],
   "source": [
    "money = int(input(\"돈 얼마 있어요? : \"))\n",
    "\n",
    "if money >= 4000:\n",
    "    print(\"택시를 타고 가세요\")\n",
    "elif 1000 <= money < 4000:\n",
    "    print(\"버스나 지하철을 타고 가세요\")\n",
    "else:\n",
    "    print(\"걸어서 가세요\")"
   ]
  },
  {
   "attachments": {
    "52654343-04b1-4c1d-b443-29b8fbf1a98d.png": {
     "image/png": "[encoded data removed]"
    }
   },
   "cell_type": "markdown",
   "id": "cd398ea5-4704-4af4-b525-6d462d03808c",
   "metadata": {},
   "source": [
    "![image.png](attachment:52654343-04b1-4c1d-b443-29b8fbf1a98d.png)"
   ]
  },
  {
   "cell_type": "code",
   "execution_count": 15,
   "id": "7c1565f1-d816-4dda-9ae0-2fb70a68df62",
   "metadata": {},
   "outputs": [
    {
     "name": "stdout",
     "output_type": "stream",
     "text": [
      "0 짝\n",
      "3 짝\n",
      "6 짝\n",
      "9 짝\n",
      "12 짝\n",
      "15 짝\n",
      "18 짝\n"
     ]
    }
   ],
   "source": [
    "# for 변수 in range(시작값, 끝값 +1, 증가값)\n",
    "\n",
    "for i in range(0, 21, 3):\n",
    "    print(i, \"짝\")"
   ]
  },
  {
   "cell_type": "markdown",
   "id": "e0e48436-ae66-4d03-92f6-285eba8162f3",
   "metadata": {},
   "source": [
    "## 돌발 문제\n",
    "1부터 9까지 더하는 프로그램"
   ]
  },
  {
   "cell_type": "code",
   "execution_count": 17,
   "id": "64cbd6e3-dfd5-4da0-8f7f-de2f9f2518ea",
   "metadata": {},
   "outputs": [
    {
     "name": "stdout",
     "output_type": "stream",
     "text": [
      "45\n",
      "45.0\n"
     ]
    }
   ],
   "source": [
    "sum = 0\n",
    "\n",
    "## for문 사용\n",
    "for i in range(10):\n",
    "    sum += i\n",
    "    \n",
    "print(sum)\n",
    "\n",
    "## 수학 공식 사용\n",
    "def total(x):\n",
    "    print(x * (x+1) / 2)\n",
    "    \n",
    "total(9)"
   ]
  },
  {
   "cell_type": "code",
   "execution_count": 21,
   "id": "ac4e73c7-d663-4dde-be33-7123e401e252",
   "metadata": {},
   "outputs": [
    {
     "name": "stdout",
     "output_type": "stream",
     "text": [
      "32\n"
     ]
    }
   ],
   "source": [
    "print(2 ** 5)"
   ]
  },
  {
   "cell_type": "code",
   "execution_count": 23,
   "id": "67f45119-efbb-446d-909d-59348f001ffe",
   "metadata": {},
   "outputs": [
    {
     "name": "stdin",
     "output_type": "stream",
     "text": [
      "숫자 주세요 :  5\n"
     ]
    },
    {
     "name": "stdout",
     "output_type": "stream",
     "text": [
      "홀수로구나\n"
     ]
    }
   ],
   "source": [
    "number = int(input(\"숫자 주세요 : \"))\n",
    "\n",
    "if number != 0:\n",
    "    if number % 2 == 0:\n",
    "        print(\"짝수로구나\")\n",
    "    else:\n",
    "        print(\"홀수로구나\")"
   ]
  },
  {
   "cell_type": "code",
   "execution_count": 24,
   "id": "023af645-0625-4542-9683-a1cfdcd58223",
   "metadata": {},
   "outputs": [
    {
     "name": "stdout",
     "output_type": "stream",
     "text": [
      "apple\n",
      "banana\n",
      "cherry\n"
     ]
    }
   ],
   "source": [
    "fruits = [\"apple\", \"banana\", \"cherry\"]\n",
    "\n",
    "for i in fruits:\n",
    "    print(i)"
   ]
  },
  {
   "cell_type": "code",
   "execution_count": 25,
   "id": "230cef3c-10ee-4b3f-8e39-51eb1a20c73f",
   "metadata": {},
   "outputs": [
    {
     "name": "stdout",
     "output_type": "stream",
     "text": [
      "1\n",
      "1\n",
      "4\n",
      "5\n",
      "6\n",
      "7\n",
      "5\n",
      "3\n",
      "4\n",
      "5\n"
     ]
    }
   ],
   "source": [
    "numbers = [1, 55, 234, 4234, 44, 1, 4, 5, 6, 7 ,5, 3, 4, 5, 123, 33, 22]\n",
    "\n",
    "for i in numbers:\n",
    "    if i < 10:\n",
    "        print(i)"
   ]
  },
  {
   "cell_type": "code",
   "execution_count": 55,
   "id": "f6a8c0b6-3b03-418b-a32a-1bb8ff48664a",
   "metadata": {},
   "outputs": [
    {
     "name": "stdout",
     "output_type": "stream",
     "text": [
      "\n",
      "★\n",
      "☆★\n",
      "★☆★\n",
      "☆★☆★\n",
      "★☆★☆★\n",
      "☆★☆★☆★\n",
      "★☆★☆★☆★\n",
      "☆★☆★☆★☆★\n",
      "★☆★☆★☆★☆★\n"
     ]
    }
   ],
   "source": [
    "num = 10\n",
    "for i in range(num):\n",
    "    string = \"\"\n",
    "    if i % 2 ==0:\n",
    "        for j in range(i):\n",
    "            if j % 2 == 0:\n",
    "                string += \"☆\"\n",
    "            else:\n",
    "                string += \"★\"\n",
    "        print(string)\n",
    "    else:\n",
    "        for j in range(i):\n",
    "            if j % 2 == 0:\n",
    "                string += \"★\"\n",
    "            else:\n",
    "                string += \"☆\"\n",
    "        print(string)"
   ]
  },
  {
   "cell_type": "code",
   "execution_count": 60,
   "id": "fa02580c-7841-4e09-af88-e0bc6aa4b45a",
   "metadata": {},
   "outputs": [
    {
     "name": "stdout",
     "output_type": "stream",
     "text": [
      "퍼가요\n",
      "현재 남은 돈 : 10000\n",
      "퍼가요\n",
      "현재 남은 돈 : 9000\n",
      "퍼가요\n",
      "현재 남은 돈 : 8000\n",
      "퍼가요\n",
      "현재 남은 돈 : 7000\n",
      "퍼가요\n",
      "현재 남은 돈 : 6000\n",
      "퍼가요\n",
      "현재 남은 돈 : 5000\n",
      "퍼가요\n",
      "현재 남은 돈 : 4000\n",
      "퍼가요\n",
      "현재 남은 돈 : 3000\n",
      "퍼가요\n",
      "현재 남은 돈 : 2000\n",
      "퍼가요\n",
      "현재 남은 돈 : 1000\n"
     ]
    }
   ],
   "source": [
    "money = 10000\n",
    "\n",
    "for i in range(money, 0, -1000):\n",
    "    print(\"퍼가요\")\n",
    "    print(\"현재 남은 돈 :\", i)"
   ]
  },
  {
   "cell_type": "code",
   "execution_count": 62,
   "id": "3c315fa5-3317-4512-9114-2d136e1e0e60",
   "metadata": {},
   "outputs": [
    {
     "name": "stdout",
     "output_type": "stream",
     "text": [
      "합격\n",
      "불합격\n",
      "합격\n",
      "불합격\n",
      "합격\n"
     ]
    }
   ],
   "source": [
    "#수학 점수\n",
    "#60점 이상 합격, 그 미만 합격\n",
    "marks = [90, 25, 67, 45, 80]\n",
    "\n",
    "for i in marks:\n",
    "    if i >= 60:\n",
    "        print(\"합격\")\n",
    "    else:\n",
    "        print(\"불합격\")"
   ]
  }
 ],
 "metadata": {
  "kernelspec": {
   "display_name": "Python 3 (ipykernel)",
   "language": "python",
   "name": "python3"
  },
  "language_info": {
   "codemirror_mode": {
    "name": "ipython",
    "version": 3
   },
   "file_extension": ".py",
   "mimetype": "text/x-python",
   "name": "python",
   "nbconvert_exporter": "python",
   "pygments_lexer": "ipython3",
   "version": "3.9.7"
  }
 },
 "nbformat": 4,
 "nbformat_minor": 5
}
