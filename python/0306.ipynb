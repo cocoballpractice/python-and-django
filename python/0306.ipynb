{
 "cells": [
  {
   "cell_type": "markdown",
   "id": "4f88c305-789c-419c-8923-49ff695cc550",
   "metadata": {},
   "source": [
    "## 돌발 문제\n",
    "- num = [1,3,4,6,8,10]\n",
    "- 짝수만 출력\n",
    "- 함수를 이용할 것"
   ]
  },
  {
   "cell_type": "code",
   "execution_count": 2,
   "id": "069aa4bd-4a53-4c63-a039-9b0d4431c421",
   "metadata": {},
   "outputs": [
    {
     "name": "stdout",
     "output_type": "stream",
     "text": [
      "4\n",
      "6\n",
      "8\n",
      "10\n"
     ]
    }
   ],
   "source": [
    "def valid(a):\n",
    "    for i in range(len(a)):\n",
    "        if a[i] % 2 == 0:\n",
    "            print(a[i])\n",
    "            \n",
    "num = [1,3,4,6,8,10]\n",
    "valid(num)"
   ]
  },
  {
   "cell_type": "code",
   "execution_count": 3,
   "id": "3b5d0dd7-91be-4ab0-92bd-c71f4240c771",
   "metadata": {},
   "outputs": [
    {
     "name": "stdout",
     "output_type": "stream",
     "text": [
      "4\n",
      "6\n",
      "8\n",
      "10\n"
     ]
    }
   ],
   "source": [
    "def valid(a):\n",
    "    for i in a:\n",
    "        if i % 2 == 0:\n",
    "            print(i)\n",
    "            \n",
    "num = [1,3,4,6,8,10]\n",
    "valid(num)"
   ]
  },
  {
   "cell_type": "markdown",
   "id": "74ab4c4b-dc94-4d9a-9f13-607ec9c15a59",
   "metadata": {},
   "source": [
    "## 돌발 문제\n",
    "- 커피 머신기가 있는데 돈을 입력하면 그 돈이 떨어질 때까지 커피를 뽑고 나머지 잔돈을 반환\n",
    "- 커피 가격은 300원\n",
    "- 돈을 입력 받아야 함"
   ]
  },
  {
   "cell_type": "code",
   "execution_count": 18,
   "id": "6d0dafb8-7c3d-475d-9a2f-9be0ce72af91",
   "metadata": {},
   "outputs": [
    {
     "name": "stdin",
     "output_type": "stream",
     "text": [
      "돈 얼마 있으세요 : 5555\n"
     ]
    },
    {
     "name": "stdout",
     "output_type": "stream",
     "text": [
      "커피 받으세요 1잔째\n",
      "커피 받으세요 2잔째\n",
      "커피 받으세요 3잔째\n",
      "커피 받으세요 4잔째\n",
      "커피 받으세요 5잔째\n",
      "커피 받으세요 6잔째\n",
      "커피 받으세요 7잔째\n",
      "커피 받으세요 8잔째\n",
      "커피 받으세요 9잔째\n",
      "커피 받으세요 10잔째\n",
      "커피 받으세요 11잔째\n",
      "커피 받으세요 12잔째\n",
      "커피 받으세요 13잔째\n",
      "커피 받으세요 14잔째\n",
      "커피 받으세요 15잔째\n",
      "커피 받으세요 16잔째\n",
      "커피 받으세요 17잔째\n",
      "커피 받으세요 18잔째\n",
      "잔돈 : 155\n"
     ]
    }
   ],
   "source": [
    "coffee_price = 300\n",
    "\n",
    "def coffee(n):\n",
    "    a = 0\n",
    "    while n > coffee_price:\n",
    "        a += 1\n",
    "        print(\"커피 받으세요 \" + str(a) + \"잔째\")\n",
    "        n -= coffee_price\n",
    "    print(\"잔돈 :\", n)\n",
    "    \n",
    "t = int(input(\"돈 얼마 있으세요 :\"))\n",
    "coffee(t)"
   ]
  },
  {
   "cell_type": "markdown",
   "id": "0674a879-4c7f-442c-8af8-8c852bbfeed4",
   "metadata": {},
   "source": [
    "## 돌발문제\n",
    "- a = (1,2,3)\n",
    "- 각 요소에 2를 곱해서 새로운 리스트를 만들어보시오"
   ]
  },
  {
   "cell_type": "code",
   "execution_count": 27,
   "id": "48acd8fb-0a20-48d4-b946-c3152a95a828",
   "metadata": {},
   "outputs": [
    {
     "name": "stdout",
     "output_type": "stream",
     "text": [
      "[2, 4, 6]\n"
     ]
    }
   ],
   "source": [
    "a = (1,2,3)\n",
    "\n",
    "def new_list(a):\n",
    "    nl = list()\n",
    "    for i in range(len(a)):\n",
    "        num = 2 * a[i]\n",
    "        nl.append(num)\n",
    "    return nl\n",
    "\n",
    "print(new_list(a))"
   ]
  },
  {
   "cell_type": "markdown",
   "id": "777dfa80-6ec2-48a1-bc97-d110e853ede5",
   "metadata": {},
   "source": [
    "## 돌발문제\n",
    "- 아이스크림 정보를 딕셔너리 자료로 저장하시오"
   ]
  },
  {
   "cell_type": "code",
   "execution_count": 42,
   "id": "3ba0e015-c0a7-4f81-b83d-dcf0eedd1b43",
   "metadata": {},
   "outputs": [
    {
     "name": "stdin",
     "output_type": "stream",
     "text": [
      "아이스크림 이름, 가격, 재고 입력 :  누가바 50 200\n"
     ]
    },
    {
     "name": "stdout",
     "output_type": "stream",
     "text": [
      "저장한 아이스크림 이름: 누가바 \n",
      "가격: 50 \n",
      "재고: 200\n",
      "{'누가바': {'name': '누가바', 'price': 50, 'count': 200}}\n"
     ]
    }
   ],
   "source": [
    "icecreams = {}\n",
    "\n",
    "def save_icecreams(n, p, c):\n",
    "    icecreams[n] = {\"이름\":n, \"가격\":p, \"재고\":c}\n",
    "    \n",
    "def icecreams_count(n):\n",
    "    print(\"저장한 아이스크림 이름:\", n, \"\\n가격:\", icecreams[n]['가격'], \"\\n재고:\", icecreams[n]['재고'])\n",
    "    \n",
    "def show_icecreams():\n",
    "    print(icecreams)\n",
    "    \n",
    "t = list(map(str, input(\"아이스크림 이름, 가격, 재고 입력 : \").split(' ')))\n",
    "\n",
    "save_icecreams(t[0], int(t[1]), int(t[2]))\n",
    "icecreams_count(t[0])\n",
    "show_icecreams()"
   ]
  },
  {
   "cell_type": "markdown",
   "id": "ac6ffb1b-0a7f-48fd-900c-01d0891fa62e",
   "metadata": {},
   "source": [
    "모든 아이스크림 재고량과 금액을 환산한 값을 프린트하시오"
   ]
  },
  {
   "cell_type": "code",
   "execution_count": 45,
   "id": "3ce36640-8188-4e2c-bb3d-dbe5b5091b7b",
   "metadata": {},
   "outputs": [
    {
     "name": "stdout",
     "output_type": "stream",
     "text": [
      "아이스크림 총 개수 : 77\n",
      "총 가격 : 32300\n"
     ]
    }
   ],
   "source": [
    "icecreams = {}\n",
    "\n",
    "def save_icecreams(n, p, c):\n",
    "    icecreams[n] = {\"이름\":n, \"가격\":p, \"재고\":c}\n",
    "    \n",
    "def show_icecreams_info(a):\n",
    "    total_price = 0\n",
    "    total_count = 0\n",
    "    for k in a.keys():\n",
    "        total_count += a[k]['재고']\n",
    "        total_price += a[k]['재고'] * a[k]['가격']\n",
    "    print(\"아이스크림 총 개수 :\", total_count)\n",
    "    print(\"총 가격 :\", total_price)\n",
    "    \n",
    "save_icecreams('누가바', 500, 20)\n",
    "save_icecreams('메로나', 400, 22)\n",
    "save_icecreams('바밤바', 600, 10)\n",
    "save_icecreams('빅바', 300, 25)\n",
    "show_icecreams_info(icecreams)"
   ]
  },
  {
   "cell_type": "markdown",
   "id": "ec3b16a2-2813-4453-a1c7-9d1ba4494600",
   "metadata": {},
   "source": [
    "## 돌발 퀴즈\n",
    "- 학생들의 평균을 구하시오"
   ]
  },
  {
   "cell_type": "code",
   "execution_count": 50,
   "id": "a9f9cfa7-0a8c-447b-ba98-a9cfd5488420",
   "metadata": {},
   "outputs": [
    {
     "name": "stdout",
     "output_type": "stream",
     "text": [
      "90.4\n"
     ]
    }
   ],
   "source": [
    "score = [88, 95, 70, 100, 99]\n",
    "\n",
    "def avg_score(s):\n",
    "    total = sum(s) # 내장 함수\n",
    "    print(total / len(s))\n",
    "    \n",
    "avg_score(score)"
   ]
  },
  {
   "cell_type": "markdown",
   "id": "f378c8ea-90a0-46a8-8fa1-74bf8c637cca",
   "metadata": {},
   "source": [
    "## 파일 입출력\n",
    "- 파일 생성 : `open(파일명, 열기 모드)`\n",
    "- 파일 이름과 파일 열기 모드를 입력값으로 받고 결과값으로 파일 객체를 리턴\n",
    "- 파일명에는 상대 경로와 절대 경로 모두 지정 가능 (경로를 지정하지 않았다면 ./, 즉 해당 프로그램을 실행하는 위치에 저장)\n",
    "- 열기 모드는 다음과 같다\n",
    "  - r : 읽기 전용\n",
    "  - w : 쓰기\n",
    "  - a : 파일 마지막에 새로운 내용을 추가"
   ]
  },
  {
   "cell_type": "code",
   "execution_count": null,
   "id": "85d5fc11-c62b-4bcd-8c2d-2b2117d20230",
   "metadata": {},
   "outputs": [],
   "source": [
    "f = open(\"새 파일.txt\", \"w\")\n",
    "f.close()"
   ]
  },
  {
   "cell_type": "markdown",
   "id": "6f2405c0-25fc-4e3e-a65a-67ad3d54e49c",
   "metadata": {},
   "source": [
    "- 파일 읽기 : `readline()`\n",
    "- 파일에서 한줄씩 읽어들임"
   ]
  },
  {
   "cell_type": "code",
   "execution_count": null,
   "id": "04986027-9d37-4479-b7f6-43a3da21f170",
   "metadata": {},
   "outputs": [],
   "source": [
    "f = open(\"새파일.txt\", 'r')\n",
    "while True: \n",
    "    line = f.readline()\n",
    "    if not line: break # 읽어들일 라인이 없으면 break\n",
    "    print(line)\n",
    "\n",
    "f.close()"
   ]
  },
  {
   "cell_type": "markdown",
   "id": "8857cfb3-aeba-48b5-a904-19a3cf3e6dbc",
   "metadata": {},
   "source": [
    "- 파일 쓰기 : `write()`"
   ]
  },
  {
   "cell_type": "code",
   "execution_count": null,
   "id": "a14f5123-6be8-44d0-b701-b374e5fddb1a",
   "metadata": {},
   "outputs": [],
   "source": [
    "f = open(\"새 파일.txt\", \"w\")\n",
    "\n",
    "f.write(\"와하하\")\n",
    "\n",
    "f.close()"
   ]
  },
  {
   "cell_type": "markdown",
   "id": "6bee7455-f1f2-4066-b886-2c46ed3b8701",
   "metadata": {},
   "source": [
    "## 클래스의 이해\n",
    "- 정보를 집약해서 만든 추상화 구조체"
   ]
  },
  {
   "cell_type": "code",
   "execution_count": null,
   "id": "0639996c-4101-4dae-9b9b-3db49b14becc",
   "metadata": {},
   "outputs": [],
   "source": [
    "class Person:\n",
    "    def __init__(self, name, age, address):\n",
    "        self.name = name\n",
    "        self.age = age\n",
    "        self.address = address\n",
    "        \n",
    "    def greeting(self):\n",
    "        print('안녕하세요, 저는 {0}입니다.'.format(self.name))"
   ]
  },
  {
   "cell_type": "code",
   "execution_count": null,
   "id": "dcda3667-cf5c-424f-83d9-36fd4a096a87",
   "metadata": {},
   "outputs": [],
   "source": [
    "class Person:\n",
    "    def __init__(self, name, age=20):\n",
    "        self.name = name\n",
    "        self.age = age\n",
    "        \n",
    "if __name__ == \"__main__\":\n",
    "    someone = Person(\"kim\", 30)\n",
    "    print(someone.name)"
   ]
  }
 ],
 "metadata": {
  "kernelspec": {
   "display_name": "Python 3 (ipykernel)",
   "language": "python",
   "name": "python3"
  },
  "language_info": {
   "codemirror_mode": {
    "name": "ipython",
    "version": 3
   },
   "file_extension": ".py",
   "mimetype": "text/x-python",
   "name": "python",
   "nbconvert_exporter": "python",
   "pygments_lexer": "ipython3",
   "version": "3.9.7"
  }
 },
 "nbformat": 4,
 "nbformat_minor": 5
}
