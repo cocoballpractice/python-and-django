{
 "cells": [
  {
   "cell_type": "markdown",
   "id": "e4e2e292-a3f4-41cd-919a-bc2e1ba91c67",
   "metadata": {},
   "source": [
    "## 돌발 문제\n",
    "- 학생 오브젝트를 만들고 두 명의 학생 인스턴스의 field를 출력하시오"
   ]
  },
  {
   "cell_type": "code",
   "execution_count": 6,
   "id": "aef4bbfa-3f59-492d-b8a5-06539f93ce1d",
   "metadata": {},
   "outputs": [
    {
     "name": "stdout",
     "output_type": "stream",
     "text": [
      "학생 이름 : 철수\n",
      "철수의 나이는 15살입니다.\n",
      "철수가 좋아하는 것은 축구입니다.\n",
      "학생 이름 : 영희\n",
      "영희의 나이는 15살입니다.\n",
      "영희가 좋아하는 것은 유튜브 감상입니다.\n"
     ]
    }
   ],
   "source": [
    "class Student:\n",
    "    \n",
    "    def __init__(self, name, age, favorite):\n",
    "        self.name = name\n",
    "        self.age = age\n",
    "        self.favorite = favorite\n",
    "        \n",
    "    def get_name(self):\n",
    "        return self.name\n",
    "    \n",
    "    def get_age(self):\n",
    "        return self.age\n",
    "    \n",
    "    def get_favorite(self):\n",
    "        return self.favorite\n",
    "\n",
    "    def introduce(i):\n",
    "        print(\"학생 이름 :\", i.get_name())\n",
    "        print(i.get_name() + \"의 나이는 \" + str(i.get_age()) + \"살입니다.\")\n",
    "        print(i.get_name() + \"가 좋아하는 것은 \" + str(i.get_favorite()) + \"입니다.\")\n",
    "    \n",
    "student_list = list()\n",
    "s1 = Student('철수', 15, '축구')\n",
    "s2 = Student('영희', 15, '유튜브 감상')\n",
    "\n",
    "student_list.append(s1)\n",
    "student_list.append(s2)\n",
    "\n",
    "for i in student_list:\n",
    "    i.introduce()\n",
    "    "
   ]
  },
  {
   "cell_type": "markdown",
   "id": "f2ab0feb-8a6d-43f9-9781-b2dee639a0a0",
   "metadata": {},
   "source": [
    "## 돌발 문제\n",
    "Calculator 클래스를 만드시오\n",
    "result라는 필드를 가지고 있고 초기화 값은 0\n",
    "처리 결과는 result에 저장하고 프린트"
   ]
  },
  {
   "cell_type": "code",
   "execution_count": 74,
   "id": "d49fc0f2-3bf2-4a63-9f8a-48169503e403",
   "metadata": {},
   "outputs": [
    {
     "name": "stdin",
     "output_type": "stream",
     "text": [
      "첫번째 숫자 :  6\n",
      "두번째 숫자 :  5\n"
     ]
    },
    {
     "name": "stdout",
     "output_type": "stream",
     "text": [
      "11\n",
      "1\n",
      "30\n",
      "1.2\n"
     ]
    }
   ],
   "source": [
    "class Calculator:\n",
    "\n",
    "    result = 0\n",
    "    \n",
    "    def __init__(self):\n",
    "        pass\n",
    "    \n",
    "    # Getter\n",
    "    def get_result(self):\n",
    "        print(self.result)\n",
    "        \n",
    "    # Setter\n",
    "    def set_result(self,a):\n",
    "        self.result = a\n",
    "        \n",
    "    def plus(self,a,b):\n",
    "        self.set_result(a+b)\n",
    "        self.get_result()\n",
    "        \n",
    "    def minus(self,a,b):\n",
    "        self.set_result(a-b)\n",
    "        self.get_result()\n",
    "        \n",
    "    def multiply(self,a,b):\n",
    "        self.set_result(a*b)\n",
    "        self.get_result()\n",
    "        \n",
    "    def divide(self,a,b):\n",
    "        if b == 0:\n",
    "            print(\"0으로 나눌 수 없습니다\")\n",
    "        else:\n",
    "            self.set_result(a/b)\n",
    "            self.get_result()\n",
    "            \n",
    "    def test(self,a,b):\n",
    "        self.plus(a,b)\n",
    "        self.minus(a,b)\n",
    "        self.multiply(a,b)\n",
    "        self.divide(a,b)\n",
    "\n",
    "a = int(input(\"첫번째 숫자 : \"))\n",
    "b = int(input(\"두번째 숫자 : \"))\n",
    "c = Calculator()\n",
    "c.test(a,b)"
   ]
  },
  {
   "cell_type": "markdown",
   "id": "40b719db-9b07-43b6-a5d9-bb61d5addc7a",
   "metadata": {},
   "source": [
    "## 돌발 문제\n",
    "- 자판기와 사람을 클래스로 만들고\n",
    "- 사람이 돈을 가지고 있고 사람이 자판에서 커피를 뽑아 먹음\n",
    "- 자판기 기능을 프로그램으로 만드시오"
   ]
  },
  {
   "cell_type": "code",
   "execution_count": 99,
   "id": "fd82bed4-20f5-4383-bfa2-f6526fc87735",
   "metadata": {},
   "outputs": [
    {
     "name": "stdin",
     "output_type": "stream",
     "text": [
      "당신이 소지한 금액을 입력해주세요 10000\n",
      "커피 재고와 가격을 '재고 가격' 형식으로 적어주세요 (예시 : 20 500) 20 500\n"
     ]
    },
    {
     "name": "stdout",
     "output_type": "stream",
     "text": [
      "설정한 소지금 : 10000\n",
      "설정한 자판기의 커피 재고와 가격 : 20 500\n"
     ]
    },
    {
     "name": "stdin",
     "output_type": "stream",
     "text": [
      "커피를 구매하시겠습니까? : 예(Y) / 아니오(N) Y\n"
     ]
    },
    {
     "name": "stdout",
     "output_type": "stream",
     "text": [
      "[System] 자판기를 이용합니다. 커피의 가격은 500원 입니다.\n",
      "[Info] 커피 구매 후 잔액 : 9500원\n",
      "[Info] 자판기 남은 커피 재고 : 19\n"
     ]
    },
    {
     "name": "stdin",
     "output_type": "stream",
     "text": [
      "커피를 구매하시겠습니까? : 예(Y) / 아니오(N) Y\n"
     ]
    },
    {
     "name": "stdout",
     "output_type": "stream",
     "text": [
      "[System] 자판기를 이용합니다. 커피의 가격은 500원 입니다.\n",
      "[Info] 커피 구매 후 잔액 : 9000원\n",
      "[Info] 자판기 남은 커피 재고 : 18\n"
     ]
    },
    {
     "name": "stdin",
     "output_type": "stream",
     "text": [
      "커피를 구매하시겠습니까? : 예(Y) / 아니오(N) Y\n"
     ]
    },
    {
     "name": "stdout",
     "output_type": "stream",
     "text": [
      "[System] 자판기를 이용합니다. 커피의 가격은 500원 입니다.\n",
      "[Info] 커피 구매 후 잔액 : 8500원\n",
      "[Info] 자판기 남은 커피 재고 : 17\n"
     ]
    },
    {
     "name": "stdin",
     "output_type": "stream",
     "text": [
      "커피를 구매하시겠습니까? : 예(Y) / 아니오(N) Y\n"
     ]
    },
    {
     "name": "stdout",
     "output_type": "stream",
     "text": [
      "[System] 자판기를 이용합니다. 커피의 가격은 500원 입니다.\n",
      "[Info] 커피 구매 후 잔액 : 8000원\n",
      "[Info] 자판기 남은 커피 재고 : 16\n"
     ]
    },
    {
     "name": "stdin",
     "output_type": "stream",
     "text": [
      "커피를 구매하시겠습니까? : 예(Y) / 아니오(N) Y\n"
     ]
    },
    {
     "name": "stdout",
     "output_type": "stream",
     "text": [
      "[System] 자판기를 이용합니다. 커피의 가격은 500원 입니다.\n",
      "[Info] 커피 구매 후 잔액 : 7500원\n",
      "[Info] 자판기 남은 커피 재고 : 15\n"
     ]
    },
    {
     "name": "stdin",
     "output_type": "stream",
     "text": [
      "커피를 구매하시겠습니까? : 예(Y) / 아니오(N) Y\n"
     ]
    },
    {
     "name": "stdout",
     "output_type": "stream",
     "text": [
      "[System] 자판기를 이용합니다. 커피의 가격은 500원 입니다.\n",
      "[Info] 커피 구매 후 잔액 : 7000원\n",
      "[Info] 자판기 남은 커피 재고 : 14\n"
     ]
    },
    {
     "name": "stdin",
     "output_type": "stream",
     "text": [
      "커피를 구매하시겠습니까? : 예(Y) / 아니오(N) Y\n"
     ]
    },
    {
     "name": "stdout",
     "output_type": "stream",
     "text": [
      "[System] 자판기를 이용합니다. 커피의 가격은 500원 입니다.\n",
      "[Info] 커피 구매 후 잔액 : 6500원\n",
      "[Info] 자판기 남은 커피 재고 : 13\n"
     ]
    },
    {
     "name": "stdin",
     "output_type": "stream",
     "text": [
      "커피를 구매하시겠습니까? : 예(Y) / 아니오(N) Y\n"
     ]
    },
    {
     "name": "stdout",
     "output_type": "stream",
     "text": [
      "[System] 자판기를 이용합니다. 커피의 가격은 500원 입니다.\n",
      "[Info] 커피 구매 후 잔액 : 6000원\n",
      "[Info] 자판기 남은 커피 재고 : 12\n"
     ]
    },
    {
     "name": "stdin",
     "output_type": "stream",
     "text": [
      "커피를 구매하시겠습니까? : 예(Y) / 아니오(N) Y\n"
     ]
    },
    {
     "name": "stdout",
     "output_type": "stream",
     "text": [
      "[System] 자판기를 이용합니다. 커피의 가격은 500원 입니다.\n",
      "[Info] 커피 구매 후 잔액 : 5500원\n",
      "[Info] 자판기 남은 커피 재고 : 11\n"
     ]
    },
    {
     "name": "stdin",
     "output_type": "stream",
     "text": [
      "커피를 구매하시겠습니까? : 예(Y) / 아니오(N) Y\n"
     ]
    },
    {
     "name": "stdout",
     "output_type": "stream",
     "text": [
      "[System] 자판기를 이용합니다. 커피의 가격은 500원 입니다.\n",
      "[Info] 커피 구매 후 잔액 : 5000원\n",
      "[Info] 자판기 남은 커피 재고 : 10\n"
     ]
    },
    {
     "name": "stdin",
     "output_type": "stream",
     "text": [
      "커피를 구매하시겠습니까? : 예(Y) / 아니오(N) Y\n"
     ]
    },
    {
     "name": "stdout",
     "output_type": "stream",
     "text": [
      "[System] 자판기를 이용합니다. 커피의 가격은 500원 입니다.\n",
      "[Info] 커피 구매 후 잔액 : 4500원\n",
      "[Info] 자판기 남은 커피 재고 : 9\n"
     ]
    },
    {
     "name": "stdin",
     "output_type": "stream",
     "text": [
      "커피를 구매하시겠습니까? : 예(Y) / 아니오(N) Y\n"
     ]
    },
    {
     "name": "stdout",
     "output_type": "stream",
     "text": [
      "[System] 자판기를 이용합니다. 커피의 가격은 500원 입니다.\n",
      "[Info] 커피 구매 후 잔액 : 4000원\n",
      "[Info] 자판기 남은 커피 재고 : 8\n"
     ]
    },
    {
     "name": "stdin",
     "output_type": "stream",
     "text": [
      "커피를 구매하시겠습니까? : 예(Y) / 아니오(N) Y\n"
     ]
    },
    {
     "name": "stdout",
     "output_type": "stream",
     "text": [
      "[System] 자판기를 이용합니다. 커피의 가격은 500원 입니다.\n",
      "[Info] 커피 구매 후 잔액 : 3500원\n",
      "[Info] 자판기 남은 커피 재고 : 7\n"
     ]
    },
    {
     "name": "stdin",
     "output_type": "stream",
     "text": [
      "커피를 구매하시겠습니까? : 예(Y) / 아니오(N) Y\n"
     ]
    },
    {
     "name": "stdout",
     "output_type": "stream",
     "text": [
      "[System] 자판기를 이용합니다. 커피의 가격은 500원 입니다.\n",
      "[Info] 커피 구매 후 잔액 : 3000원\n",
      "[Info] 자판기 남은 커피 재고 : 6\n"
     ]
    },
    {
     "name": "stdin",
     "output_type": "stream",
     "text": [
      "커피를 구매하시겠습니까? : 예(Y) / 아니오(N) Y\n"
     ]
    },
    {
     "name": "stdout",
     "output_type": "stream",
     "text": [
      "[System] 자판기를 이용합니다. 커피의 가격은 500원 입니다.\n",
      "[Info] 커피 구매 후 잔액 : 2500원\n",
      "[Info] 자판기 남은 커피 재고 : 5\n"
     ]
    },
    {
     "name": "stdin",
     "output_type": "stream",
     "text": [
      "커피를 구매하시겠습니까? : 예(Y) / 아니오(N) Y\n"
     ]
    },
    {
     "name": "stdout",
     "output_type": "stream",
     "text": [
      "[System] 자판기를 이용합니다. 커피의 가격은 500원 입니다.\n",
      "[Info] 커피 구매 후 잔액 : 2000원\n",
      "[Info] 자판기 남은 커피 재고 : 4\n"
     ]
    },
    {
     "name": "stdin",
     "output_type": "stream",
     "text": [
      "커피를 구매하시겠습니까? : 예(Y) / 아니오(N) Y\n"
     ]
    },
    {
     "name": "stdout",
     "output_type": "stream",
     "text": [
      "[System] 자판기를 이용합니다. 커피의 가격은 500원 입니다.\n",
      "[Info] 커피 구매 후 잔액 : 1500원\n",
      "[Info] 자판기 남은 커피 재고 : 3\n"
     ]
    },
    {
     "name": "stdin",
     "output_type": "stream",
     "text": [
      "커피를 구매하시겠습니까? : 예(Y) / 아니오(N) Y\n"
     ]
    },
    {
     "name": "stdout",
     "output_type": "stream",
     "text": [
      "[System] 자판기를 이용합니다. 커피의 가격은 500원 입니다.\n",
      "[Info] 커피 구매 후 잔액 : 1000원\n",
      "[Info] 자판기 남은 커피 재고 : 2\n"
     ]
    },
    {
     "name": "stdin",
     "output_type": "stream",
     "text": [
      "커피를 구매하시겠습니까? : 예(Y) / 아니오(N) Y\n"
     ]
    },
    {
     "name": "stdout",
     "output_type": "stream",
     "text": [
      "[System] 자판기를 이용합니다. 커피의 가격은 500원 입니다.\n",
      "[Info] 커피 구매 후 잔액 : 500원\n",
      "[Info] 자판기 남은 커피 재고 : 1\n"
     ]
    },
    {
     "name": "stdin",
     "output_type": "stream",
     "text": [
      "커피를 구매하시겠습니까? : 예(Y) / 아니오(N) Y\n"
     ]
    },
    {
     "name": "stdout",
     "output_type": "stream",
     "text": [
      "[System] 자판기를 이용합니다. 커피의 가격은 500원 입니다.\n",
      "[Info] 커피 구매 후 잔액 : 0원\n",
      "[Info] 자판기 남은 커피 재고 : 0\n"
     ]
    },
    {
     "name": "stdin",
     "output_type": "stream",
     "text": [
      "커피를 구매하시겠습니까? : 예(Y) / 아니오(N) Y\n"
     ]
    },
    {
     "name": "stdout",
     "output_type": "stream",
     "text": [
      "[Error] 재고가 부족하여 커피를 구매할 수 없습니다\n"
     ]
    },
    {
     "name": "stdin",
     "output_type": "stream",
     "text": [
      "커피를 구매하시겠습니까? : 예(Y) / 아니오(N) N\n"
     ]
    },
    {
     "name": "stdout",
     "output_type": "stream",
     "text": [
      "[System] 이용해주셔서 감사합니다 안녕히 가세요\n"
     ]
    }
   ],
   "source": [
    "class Person:\n",
    "    \n",
    "    money=0\n",
    "    \n",
    "    def __init__(self, money):\n",
    "        self.money = money\n",
    "        \n",
    "    def get_money(self):\n",
    "        return self.money\n",
    "    \n",
    "    def minus_money(self, money):\n",
    "        self.money -= money\n",
    "        \n",
    "    def use_vending_machine(self, v):\n",
    "        vp = v.get_price()\n",
    "        vs = v.get_stock()\n",
    "        pm = self.get_money()\n",
    "    \n",
    "        if vs >= 1:\n",
    "            if pm >= vp:\n",
    "                print(\"[System] 자판기를 이용합니다. 커피의 가격은 \" + str(vp) +\"원 입니다.\")\n",
    "                self.minus_money(vp)\n",
    "                v.minus_stock(1)\n",
    "                pm = self.get_money()\n",
    "                vs = v.get_stock()\n",
    "                print(\"[Info] 커피 구매 후 잔액 : \" + str(pm) +\"원\")\n",
    "                print(\"[Info] 자판기 남은 커피 재고 :\", vs)\n",
    "            else:\n",
    "                print(\"[Error] 잔액이 부족하여 커피를 구매할 수 없습니다\")\n",
    "        else:\n",
    "            print(\"[Error] 재고가 부족하여 커피를 구매할 수 없습니다\")\n",
    "        \n",
    "class VendingMachine:\n",
    "    \n",
    "    stock=0\n",
    "    price=0\n",
    "    \n",
    "    def __init__(self, stock, price):\n",
    "        self.stock = stock\n",
    "        self.price = price\n",
    "        \n",
    "    def get_price(self):\n",
    "        return self.price\n",
    "        \n",
    "    def get_stock(self):\n",
    "        return self.stock\n",
    "    \n",
    "    def minus_stock(self, stock):\n",
    "        self.stock -= stock\n",
    "        \n",
    "p_money = int(input(\"당신이 소지한 금액을 입력해주세요\"))\n",
    "v_info = list(map(int, input(\"자판기의 커피 재고와 가격을 '재고 가격' 형식으로 적어주세요 (예시 : 20 500)\").split(' ')))\n",
    "\n",
    "p = Person(p_money)\n",
    "v = VendingMachine(v_info[0], v_info[1])\n",
    "\n",
    "pm = p.get_money()\n",
    "vs = v.get_stock()\n",
    "vp = v.get_price()\n",
    "\n",
    "print(\"설정한 소지금 :\", pm)\n",
    "print(\"설정한 자판기의 커피 재고와 가격 :\", vs, vp)\n",
    "\n",
    "while True:\n",
    "    question = input(\"커피를 구매하시겠습니까? : 예(Y) / 아니오(N)\")\n",
    "    if question == \"Y\":\n",
    "        p.use_vending_machine(v)\n",
    "    elif question == \"N\":\n",
    "        print(\"[System] 이용해주셔서 감사합니다 안녕히 가세요\")\n",
    "        break\n",
    "    else:\n",
    "        print(\"[Error] 잘못된 입력입니다.\")"
   ]
  },
  {
   "cell_type": "code",
   "execution_count": null,
   "id": "18fde05b-4d17-4ca1-a019-6b94469f213e",
   "metadata": {},
   "outputs": [],
   "source": []
  }
 ],
 "metadata": {
  "kernelspec": {
   "display_name": "Python 3 (ipykernel)",
   "language": "python",
   "name": "python3"
  },
  "language_info": {
   "codemirror_mode": {
    "name": "ipython",
    "version": 3
   },
   "file_extension": ".py",
   "mimetype": "text/x-python",
   "name": "python",
   "nbconvert_exporter": "python",
   "pygments_lexer": "ipython3",
   "version": "3.9.7"
  }
 },
 "nbformat": 4,
 "nbformat_minor": 5
}
